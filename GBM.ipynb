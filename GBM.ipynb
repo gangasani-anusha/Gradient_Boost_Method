{
  "nbformat": 4,
  "nbformat_minor": 0,
  "metadata": {
    "colab": {
      "name": "GBM.ipynb",
      "provenance": [],
      "authorship_tag": "ABX9TyPb3bMTPCiO2gO+KBRLJhdE",
      "include_colab_link": true
    },
    "kernelspec": {
      "name": "python3",
      "display_name": "Python 3"
    },
    "language_info": {
      "name": "python"
    }
  },
  "cells": [
    {
      "cell_type": "markdown",
      "metadata": {
        "id": "view-in-github",
        "colab_type": "text"
      },
      "source": [
        "<a href=\"https://colab.research.google.com/github/gangasani-anusha/Gradient_Boost_Method/blob/main/GBM.ipynb\" target=\"_parent\"><img src=\"https://colab.research.google.com/assets/colab-badge.svg\" alt=\"Open In Colab\"/></a>"
      ]
    },
    {
      "cell_type": "markdown",
      "source": [
        "# GBM Classifier Techniques"
      ],
      "metadata": {
        "id": "e6lYoKr80tJw"
      }
    },
    {
      "cell_type": "markdown",
      "source": [
        "## XGBoost"
      ],
      "metadata": {
        "id": "EOLjJEMx0_-l"
      }
    },
    {
      "cell_type": "code",
      "execution_count": 85,
      "metadata": {
        "colab": {
          "base_uri": "https://localhost:8080/"
        },
        "id": "nrQLbgWX0XB1",
        "outputId": "15a1c2b3-50e7-4f56-b4e6-391f1b4cee9f"
      },
      "outputs": [
        {
          "output_type": "stream",
          "name": "stdout",
          "text": [
            "Accuracy: 0.919 (0.026)\n",
            "Prediction: 1\n"
          ]
        }
      ],
      "source": [
        "# xgboost for classification\n",
        "from numpy import asarray\n",
        "from numpy import mean\n",
        "from numpy import std\n",
        "from sklearn.datasets import make_classification\n",
        "from xgboost import XGBClassifier\n",
        "from sklearn.model_selection import cross_val_score\n",
        "from sklearn.model_selection import RepeatedStratifiedKFold\n",
        "from matplotlib import pyplot\n",
        "# define dataset\n",
        "X, y = make_classification(n_samples=1000, n_features=10, n_informative=5, n_redundant=5, random_state=1)\n",
        "# evaluate the model\n",
        "model = XGBClassifier()\n",
        "cv = RepeatedStratifiedKFold(n_splits=10, n_repeats=3, random_state=1)\n",
        "n_scores = cross_val_score(model, X, y, scoring='accuracy', cv=cv, n_jobs=-1, error_score='raise')\n",
        "print('Accuracy: %.3f (%.3f)' % (mean(n_scores), std(n_scores)))\n",
        "# fit the model on the whole dataset\n",
        "model = XGBClassifier()\n",
        "model.fit(X, y)\n",
        "# make a single prediction\n",
        "row = [2.56999479, -0.13019997, 3.16075093, -4.35936352, -1.61271951, -1.39352057, -2.48924933, -1.93094078, 3.26130366, 2.05692145]\n",
        "row = asarray(row).reshape((1, len(row)))\n",
        "yhat = model.predict(row)\n",
        "print('Prediction: %d' % yhat[0])"
      ]
    },
    {
      "cell_type": "markdown",
      "source": [
        "## CatBoost"
      ],
      "metadata": {
        "id": "lT1QUSo907Aa"
      }
    },
    {
      "cell_type": "code",
      "source": [
        "!pip install catboost"
      ],
      "metadata": {
        "colab": {
          "base_uri": "https://localhost:8080/"
        },
        "id": "xoxSPjRe1VHG",
        "outputId": "d41818cd-8f3e-4df0-8690-dbb1fe07e1ba"
      },
      "execution_count": 86,
      "outputs": [
        {
          "output_type": "stream",
          "name": "stdout",
          "text": [
            "Requirement already satisfied: catboost in /usr/local/lib/python3.7/dist-packages (1.0.3)\n",
            "Requirement already satisfied: scipy in /usr/local/lib/python3.7/dist-packages (from catboost) (1.4.1)\n",
            "Requirement already satisfied: numpy>=1.16.0 in /usr/local/lib/python3.7/dist-packages (from catboost) (1.19.5)\n",
            "Requirement already satisfied: plotly in /usr/local/lib/python3.7/dist-packages (from catboost) (4.4.1)\n",
            "Requirement already satisfied: pandas>=0.24.0 in /usr/local/lib/python3.7/dist-packages (from catboost) (1.1.5)\n",
            "Requirement already satisfied: matplotlib in /usr/local/lib/python3.7/dist-packages (from catboost) (3.2.2)\n",
            "Requirement already satisfied: graphviz in /usr/local/lib/python3.7/dist-packages (from catboost) (0.10.1)\n",
            "Requirement already satisfied: six in /usr/local/lib/python3.7/dist-packages (from catboost) (1.15.0)\n",
            "Requirement already satisfied: python-dateutil>=2.7.3 in /usr/local/lib/python3.7/dist-packages (from pandas>=0.24.0->catboost) (2.8.2)\n",
            "Requirement already satisfied: pytz>=2017.2 in /usr/local/lib/python3.7/dist-packages (from pandas>=0.24.0->catboost) (2018.9)\n",
            "Requirement already satisfied: cycler>=0.10 in /usr/local/lib/python3.7/dist-packages (from matplotlib->catboost) (0.11.0)\n",
            "Requirement already satisfied: kiwisolver>=1.0.1 in /usr/local/lib/python3.7/dist-packages (from matplotlib->catboost) (1.3.2)\n",
            "Requirement already satisfied: pyparsing!=2.0.4,!=2.1.2,!=2.1.6,>=2.0.1 in /usr/local/lib/python3.7/dist-packages (from matplotlib->catboost) (3.0.6)\n",
            "Requirement already satisfied: retrying>=1.3.3 in /usr/local/lib/python3.7/dist-packages (from plotly->catboost) (1.3.3)\n"
          ]
        }
      ]
    },
    {
      "cell_type": "code",
      "source": [
        "# catboost for classification\n",
        "from numpy import mean\n",
        "from numpy import std\n",
        "from sklearn.datasets import make_classification\n",
        "from catboost import CatBoostClassifier\n",
        "from sklearn.model_selection import cross_val_score\n",
        "from sklearn.model_selection import RepeatedStratifiedKFold\n",
        "from matplotlib import pyplot\n",
        "# define dataset\n",
        "X, y = make_classification(n_samples=1000, n_features=10, n_informative=5, n_redundant=5, random_state=1)\n",
        "# evaluate the model\n",
        "model = CatBoostClassifier(verbose=0, n_estimators=100)\n",
        "cv = RepeatedStratifiedKFold(n_splits=10, n_repeats=3, random_state=1)\n",
        "n_scores = cross_val_score(model, X, y, scoring='accuracy', cv=cv, n_jobs=-1, error_score='raise')\n",
        "print('Accuracy: %.3f (%.3f)' % (mean(n_scores), std(n_scores)))\n",
        "# fit the model on the whole dataset\n",
        "model = CatBoostClassifier(verbose=0, n_estimators=100)\n",
        "model.fit(X, y)\n",
        "# make a single prediction\n",
        "row = [[2.56999479, -0.13019997, 3.16075093, -4.35936352, -1.61271951, -1.39352057, -2.48924933, -1.93094078, 3.26130366, 2.05692145]]\n",
        "yhat = model.predict(row)\n",
        "print('Prediction: %d' % yhat[0])"
      ],
      "metadata": {
        "colab": {
          "base_uri": "https://localhost:8080/"
        },
        "id": "flbbwfqk1LhS",
        "outputId": "4222ff51-0fe9-4bfa-d760-f5939ef8365c"
      },
      "execution_count": 87,
      "outputs": [
        {
          "output_type": "stream",
          "name": "stdout",
          "text": [
            "Accuracy: 0.925 (0.025)\n",
            "Prediction: 1\n"
          ]
        }
      ]
    },
    {
      "cell_type": "markdown",
      "source": [
        "## LightGBM"
      ],
      "metadata": {
        "id": "Fr-6FnVK1874"
      }
    },
    {
      "cell_type": "code",
      "source": [
        "# lightgbm for classification\n",
        "from numpy import mean\n",
        "from numpy import std\n",
        "from sklearn.datasets import make_classification\n",
        "from lightgbm import LGBMClassifier\n",
        "from sklearn.model_selection import cross_val_score\n",
        "from sklearn.model_selection import RepeatedStratifiedKFold\n",
        "from matplotlib import pyplot\n",
        "# define dataset\n",
        "X, y = make_classification(n_samples=1000, n_features=10, n_informative=5, n_redundant=5, random_state=1)\n",
        "# evaluate the model\n",
        "model = LGBMClassifier()\n",
        "cv = RepeatedStratifiedKFold(n_splits=10, n_repeats=3, random_state=1)\n",
        "n_scores = cross_val_score(model, X, y, scoring='accuracy', cv=cv, n_jobs=-1, error_score='raise')\n",
        "print('Accuracy: %.3f (%.3f)' % (mean(n_scores), std(n_scores)))\n",
        "# fit the model on the whole dataset\n",
        "model = LGBMClassifier()\n",
        "model.fit(X, y)\n",
        "# make a single prediction\n",
        "row = [[2.56999479, -0.13019997, 3.16075093, -4.35936352, -1.61271951, -1.39352057, -2.48924933, -1.93094078, 3.26130366, 2.05692145]]\n",
        "yhat = model.predict(row)\n",
        "print('Prediction: %d' % yhat[0])\n"
      ],
      "metadata": {
        "colab": {
          "base_uri": "https://localhost:8080/"
        },
        "id": "9OdHVfim2E25",
        "outputId": "5fc0bfeb-6b34-41a6-d37d-57d34b9be26c"
      },
      "execution_count": 88,
      "outputs": [
        {
          "output_type": "stream",
          "name": "stdout",
          "text": [
            "Accuracy: 0.934 (0.021)\n",
            "Prediction: 1\n"
          ]
        }
      ]
    },
    {
      "cell_type": "markdown",
      "source": [
        "## Decision Tree & Random Forest"
      ],
      "metadata": {
        "id": "R9JYj9IZ2Z11"
      }
    },
    {
      "cell_type": "code",
      "source": [
        "from sklearn.model_selection import cross_val_score\n",
        "from sklearn.datasets import make_blobs\n",
        "from sklearn.ensemble import RandomForestClassifier\n",
        "from sklearn.tree import DecisionTreeClassifier\n",
        "\n",
        "X, y = make_blobs(n_samples=10000, n_features=10, centers=100,\n",
        "    random_state=0)"
      ],
      "metadata": {
        "id": "OX-dPH4v2g0k"
      },
      "execution_count": 89,
      "outputs": []
    },
    {
      "cell_type": "markdown",
      "source": [
        "### `Random Forest`"
      ],
      "metadata": {
        "id": "uUiN_hVc4wLM"
      }
    },
    {
      "cell_type": "code",
      "source": [
        "clf = RandomForestClassifier(n_estimators=10, max_depth=None,\n",
        "    min_samples_split=2, random_state=0)\n",
        "scores = cross_val_score(clf, X, y, cv=5)\n",
        "scores.mean()"
      ],
      "metadata": {
        "colab": {
          "base_uri": "https://localhost:8080/"
        },
        "id": "4BkO2AG643Sg",
        "outputId": "f960bfb6-c6b1-4ac0-ae62-eaa7bacb71e1"
      },
      "execution_count": 90,
      "outputs": [
        {
          "output_type": "execute_result",
          "data": {
            "text/plain": [
              "0.9997"
            ]
          },
          "metadata": {},
          "execution_count": 90
        }
      ]
    },
    {
      "cell_type": "markdown",
      "source": [
        "### `Decision Tree`"
      ],
      "metadata": {
        "id": "6-5yCzJD490Y"
      }
    },
    {
      "cell_type": "code",
      "source": [
        "clf = DecisionTreeClassifier(max_depth=None, min_samples_split=2,\n",
        "    random_state=0)\n",
        "scores = cross_val_score(clf, X, y, cv=5)\n",
        "scores.mean()"
      ],
      "metadata": {
        "colab": {
          "base_uri": "https://localhost:8080/"
        },
        "id": "6MXcKg1w4lpU",
        "outputId": "c3b9ea71-5d25-415d-fd00-f2853cb60231"
      },
      "execution_count": 91,
      "outputs": [
        {
          "output_type": "execute_result",
          "data": {
            "text/plain": [
              "0.9823000000000001"
            ]
          },
          "metadata": {},
          "execution_count": 91
        }
      ]
    },
    {
      "cell_type": "markdown",
      "source": [
        "## Adaboost"
      ],
      "metadata": {
        "id": "Bg9Eydxc5c2C"
      }
    },
    {
      "cell_type": "code",
      "source": [
        "# evaluate adaboost algorithm for classification\n",
        "from numpy import mean\n",
        "from numpy import std\n",
        "from sklearn.datasets import make_classification\n",
        "from sklearn.model_selection import cross_val_score\n",
        "from sklearn.model_selection import RepeatedStratifiedKFold\n",
        "from sklearn.ensemble import AdaBoostClassifier"
      ],
      "metadata": {
        "id": "V1SZ3wVv5glX"
      },
      "execution_count": 92,
      "outputs": []
    },
    {
      "cell_type": "code",
      "source": [
        "X, y = make_classification(n_samples=1000, n_features=20, n_informative=15, n_redundant=5, random_state=6)\n",
        "# define the model\n",
        "model = AdaBoostClassifier()"
      ],
      "metadata": {
        "id": "jh6Qs0N15jFu"
      },
      "execution_count": 93,
      "outputs": []
    },
    {
      "cell_type": "code",
      "source": [
        "# evaluate the model\n",
        "cv = RepeatedStratifiedKFold(n_splits=10, n_repeats=3, random_state=1)\n",
        "n_scores = cross_val_score(model, X, y, scoring='accuracy', cv=cv, n_jobs=-1, error_score='raise')\n",
        "# report performance\n",
        "print('Accuracy: %.3f (%.3f)' % (mean(n_scores), std(n_scores)))"
      ],
      "metadata": {
        "colab": {
          "base_uri": "https://localhost:8080/"
        },
        "id": "6z2USfOS5lVB",
        "outputId": "5d502009-c366-41aa-a4dd-80bf7168b945"
      },
      "execution_count": 94,
      "outputs": [
        {
          "output_type": "stream",
          "name": "stdout",
          "text": [
            "Accuracy: 0.806 (0.041)\n"
          ]
        }
      ]
    },
    {
      "cell_type": "markdown",
      "source": [
        "# GBM Regression Techniques "
      ],
      "metadata": {
        "id": "Dd-ZRAKu5t-A"
      }
    },
    {
      "cell_type": "markdown",
      "source": [
        "## XGBoost"
      ],
      "metadata": {
        "id": "uQqbh9mr50H_"
      }
    },
    {
      "cell_type": "code",
      "source": [
        "\n",
        "# xgboost for regression\n",
        "from numpy import asarray\n",
        "from numpy import mean\n",
        "from numpy import std\n",
        "from sklearn.datasets import make_regression\n",
        "from xgboost import XGBRegressor\n",
        "from sklearn.model_selection import cross_val_score\n",
        "from sklearn.model_selection import RepeatedKFold\n",
        "from matplotlib import pyplot\n",
        "# define dataset\n",
        "X, y = make_regression(n_samples=1000, n_features=10, n_informative=5, random_state=1)\n",
        "# evaluate the model\n",
        "model = XGBRegressor(objective='reg:squarederror')\n",
        "cv = RepeatedKFold(n_splits=10, n_repeats=3, random_state=1)\n",
        "n_scores = cross_val_score(model, X, y, scoring='neg_mean_absolute_error', cv=cv, n_jobs=-1, error_score='raise')\n",
        "print('MAE: %.3f (%.3f)' % (mean(n_scores), std(n_scores)))\n",
        "# fit the model on the whole dataset\n",
        "model = XGBRegressor(objective='reg:squarederror')\n",
        "model.fit(X, y)\n",
        "# make a single prediction\n",
        "row = [2.02220122, 0.31563495, 0.82797464, -0.30620401, 0.16003707, -1.44411381, 0.87616892, -0.50446586, 0.23009474, 0.76201118]\n",
        "row = asarray(row).reshape((1, len(row)))\n",
        "yhat = model.predict(row)\n",
        "print('Prediction: %.3f' % yhat[0])"
      ],
      "metadata": {
        "colab": {
          "base_uri": "https://localhost:8080/"
        },
        "id": "d7nQUOYX5yCM",
        "outputId": "d5a9d022-9eaa-4f6b-dbbb-dedd471c594f"
      },
      "execution_count": 82,
      "outputs": [
        {
          "output_type": "stream",
          "name": "stdout",
          "text": [
            "MAE: -12.083 (1.259)\n",
            "Prediction: -77.347\n"
          ]
        }
      ]
    },
    {
      "cell_type": "markdown",
      "source": [
        "## CatBoost"
      ],
      "metadata": {
        "id": "0ZM5C5wA6An2"
      }
    },
    {
      "cell_type": "code",
      "source": [
        "\n",
        "# catboost for regression\n",
        "from numpy import mean\n",
        "from numpy import std\n",
        "from sklearn.datasets import make_regression\n",
        "from catboost import CatBoostRegressor\n",
        "from sklearn.model_selection import cross_val_score\n",
        "from sklearn.model_selection import RepeatedKFold\n",
        "from matplotlib import pyplot\n",
        "# define dataset\n",
        "X, y = make_regression(n_samples=1000, n_features=10, n_informative=5, random_state=1)\n",
        "# evaluate the model\n",
        "model = CatBoostRegressor(verbose=0, n_estimators=100)\n",
        "cv = RepeatedKFold(n_splits=10, n_repeats=3, random_state=1)\n",
        "n_scores = cross_val_score(model, X, y, scoring='neg_mean_absolute_error', cv=cv, n_jobs=-1, error_score='raise')\n",
        "print('MAE: %.3f (%.3f)' % (mean(n_scores), std(n_scores)))\n",
        "# fit the model on the whole dataset\n",
        "model = CatBoostRegressor(verbose=0, n_estimators=100)\n",
        "model.fit(X, y)\n",
        "# make a single prediction\n",
        "row = [[2.02220122, 0.31563495, 0.82797464, -0.30620401, 0.16003707, -1.44411381, 0.87616892, -0.50446586, 0.23009474, 0.76201118]]\n",
        "yhat = model.predict(row)\n",
        "print('Prediction: %.3f' % yhat[0])"
      ],
      "metadata": {
        "colab": {
          "base_uri": "https://localhost:8080/"
        },
        "id": "BIEu-yfT6BVk",
        "outputId": "40dbb321-8d88-4b1d-a01a-e211ab955251"
      },
      "execution_count": 83,
      "outputs": [
        {
          "output_type": "stream",
          "name": "stdout",
          "text": [
            "MAE: -9.701 (1.234)\n"
          ]
        },
        {
          "output_type": "stream",
          "name": "stderr",
          "text": [
            "Custom logger is already specified. Specify more than one logger at same time is not thread safe."
          ]
        },
        {
          "output_type": "stream",
          "name": "stdout",
          "text": [
            "Prediction: -81.905\n"
          ]
        }
      ]
    },
    {
      "cell_type": "markdown",
      "source": [
        "## LightGBM"
      ],
      "metadata": {
        "id": "Mr3Iw1XX6h8a"
      }
    },
    {
      "cell_type": "code",
      "source": [
        "\n",
        "# lightgbm for regression\n",
        "from numpy import mean\n",
        "from numpy import std\n",
        "from sklearn.datasets import make_regression\n",
        "from lightgbm import LGBMRegressor\n",
        "from sklearn.model_selection import cross_val_score\n",
        "from sklearn.model_selection import RepeatedKFold\n",
        "from matplotlib import pyplot\n",
        "# define dataset\n",
        "X, y = make_regression(n_samples=1000, n_features=10, n_informative=5, random_state=1)\n",
        "# evaluate the model\n",
        "model = LGBMRegressor()\n",
        "cv = RepeatedKFold(n_splits=10, n_repeats=3, random_state=1)\n",
        "n_scores = cross_val_score(model, X, y, scoring='neg_mean_absolute_error', cv=cv, n_jobs=-1, error_score='raise')\n",
        "print('MAE: %.3f (%.3f)' % (mean(n_scores), std(n_scores)))\n",
        "# fit the model on the whole dataset\n",
        "model = LGBMRegressor()\n",
        "model.fit(X, y)\n",
        "# make a single prediction\n",
        "row = [[2.02220122, 0.31563495, 0.82797464, -0.30620401, 0.16003707, -1.44411381, 0.87616892, -0.50446586, 0.23009474, 0.76201118]]\n",
        "yhat = model.predict(row)\n",
        "print('Prediction: %.3f' % yhat[0])"
      ],
      "metadata": {
        "colab": {
          "base_uri": "https://localhost:8080/"
        },
        "id": "Q_rkM8pA6l9h",
        "outputId": "116c08b2-d99e-49e5-e523-c71f02b294c6"
      },
      "execution_count": 84,
      "outputs": [
        {
          "output_type": "stream",
          "name": "stdout",
          "text": [
            "MAE: -12.739 (1.408)\n",
            "Prediction: -82.040\n"
          ]
        }
      ]
    },
    {
      "cell_type": "markdown",
      "source": [
        "# GBM Ranking Techniques"
      ],
      "metadata": {
        "id": "rvIHhn2F6teb"
      }
    },
    {
      "cell_type": "markdown",
      "source": [
        "## XGBoost"
      ],
      "metadata": {
        "id": "xU5yj2uhz5by"
      }
    },
    {
      "cell_type": "code",
      "source": [
        "import xgboost as xgb\n",
        "gbm = xgb.XGBRanker()"
      ],
      "metadata": {
        "id": "gAI4rfoTz7_6"
      },
      "execution_count": 72,
      "outputs": []
    },
    {
      "cell_type": "code",
      "source": [
        "from sklearn.model_selection import train_test_split\n",
        "X_train, X_test, y_train, y_test = train_test_split(X, y, test_size=0.2, random_state=1)\n",
        "X_train, X_val, y_train, y_val = train_test_split(X_train, y_train, test_size=0.2, random_state=1)\n",
        "\n",
        "query_train = [X_train.shape[0]]\n",
        "query_val = [X_val.shape[0]]\n",
        "query_test = [X_test.shape[0]]\n"
      ],
      "metadata": {
        "id": "NuJTIF0V0Qe6"
      },
      "execution_count": 73,
      "outputs": []
    },
    {
      "cell_type": "code",
      "source": [
        "gbm.fit(X_train, y_train, group=query_train,\n",
        "        eval_set=[(X_val, y_val)], eval_group=[query_val], early_stopping_rounds=50, xgb_model = None)"
      ],
      "metadata": {
        "colab": {
          "base_uri": "https://localhost:8080/"
        },
        "id": "e3AcBsdA0SYF",
        "outputId": "b5e9d717-1588-408b-8df1-ef7bcfeadbb8"
      },
      "execution_count": 74,
      "outputs": [
        {
          "output_type": "execute_result",
          "data": {
            "text/plain": [
              "XGBRanker()"
            ]
          },
          "metadata": {},
          "execution_count": 74
        }
      ]
    },
    {
      "cell_type": "markdown",
      "source": [
        "## CatBoost"
      ],
      "metadata": {
        "id": "iuYe2Sjq1Ovp"
      }
    },
    {
      "cell_type": "code",
      "source": [
        "!pip install catboost"
      ],
      "metadata": {
        "colab": {
          "base_uri": "https://localhost:8080/"
        },
        "id": "qpM6vc2i4Dat",
        "outputId": "339cfa31-8bea-4fc1-91ef-87ff6ccf9282"
      },
      "execution_count": 75,
      "outputs": [
        {
          "output_type": "stream",
          "name": "stdout",
          "text": [
            "Requirement already satisfied: catboost in /usr/local/lib/python3.7/dist-packages (1.0.3)\n",
            "Requirement already satisfied: plotly in /usr/local/lib/python3.7/dist-packages (from catboost) (4.4.1)\n",
            "Requirement already satisfied: pandas>=0.24.0 in /usr/local/lib/python3.7/dist-packages (from catboost) (1.1.5)\n",
            "Requirement already satisfied: numpy>=1.16.0 in /usr/local/lib/python3.7/dist-packages (from catboost) (1.19.5)\n",
            "Requirement already satisfied: six in /usr/local/lib/python3.7/dist-packages (from catboost) (1.15.0)\n",
            "Requirement already satisfied: scipy in /usr/local/lib/python3.7/dist-packages (from catboost) (1.4.1)\n",
            "Requirement already satisfied: matplotlib in /usr/local/lib/python3.7/dist-packages (from catboost) (3.2.2)\n",
            "Requirement already satisfied: graphviz in /usr/local/lib/python3.7/dist-packages (from catboost) (0.10.1)\n",
            "Requirement already satisfied: python-dateutil>=2.7.3 in /usr/local/lib/python3.7/dist-packages (from pandas>=0.24.0->catboost) (2.8.2)\n",
            "Requirement already satisfied: pytz>=2017.2 in /usr/local/lib/python3.7/dist-packages (from pandas>=0.24.0->catboost) (2018.9)\n",
            "Requirement already satisfied: kiwisolver>=1.0.1 in /usr/local/lib/python3.7/dist-packages (from matplotlib->catboost) (1.3.2)\n",
            "Requirement already satisfied: cycler>=0.10 in /usr/local/lib/python3.7/dist-packages (from matplotlib->catboost) (0.11.0)\n",
            "Requirement already satisfied: pyparsing!=2.0.4,!=2.1.2,!=2.1.6,>=2.0.1 in /usr/local/lib/python3.7/dist-packages (from matplotlib->catboost) (3.0.6)\n",
            "Requirement already satisfied: retrying>=1.3.3 in /usr/local/lib/python3.7/dist-packages (from plotly->catboost) (1.3.3)\n"
          ]
        }
      ]
    },
    {
      "cell_type": "code",
      "source": [
        "import catboost as xgb\n",
        "hb = xgb.CatBoostRanker()"
      ],
      "metadata": {
        "id": "9kYdt2H21Rv7"
      },
      "execution_count": 76,
      "outputs": []
    },
    {
      "cell_type": "code",
      "source": [
        "from sklearn.model_selection import train_test_split\n",
        "X_train, X_test, y_train, y_test = train_test_split(X, y, test_size=0.2, random_state=1)\n",
        "X_train, X_val, y_train, y_val = train_test_split(X_train, y_train, test_size=0.2, random_state=1)\n",
        "\n",
        "query_train = [X_train.shape[0]]\n",
        "query_val = [X_val.shape[0]]\n",
        "query_test = [X_test.shape[0]]\n"
      ],
      "metadata": {
        "id": "TpwrhBFt1WSz"
      },
      "execution_count": 77,
      "outputs": []
    },
    {
      "cell_type": "code",
      "source": [
        "gbm.fit(X_train, y_train, group=query_train,\n",
        "        eval_set=[(X_val, y_val)], eval_group=[query_val], early_stopping_rounds=50, xgb_model = None)"
      ],
      "metadata": {
        "colab": {
          "base_uri": "https://localhost:8080/"
        },
        "id": "HC6hTL9m3sR8",
        "outputId": "2d8a07d0-da7b-41da-dce2-963300f2a194"
      },
      "execution_count": 78,
      "outputs": [
        {
          "output_type": "execute_result",
          "data": {
            "text/plain": [
              "XGBRanker()"
            ]
          },
          "metadata": {},
          "execution_count": 78
        }
      ]
    },
    {
      "cell_type": "markdown",
      "source": [
        "## LightGBM"
      ],
      "metadata": {
        "id": "hda9cy4i6x9a"
      }
    },
    {
      "cell_type": "code",
      "source": [
        "import lightgbm as lgb\n",
        "gbm = lgb.LGBMRanker()"
      ],
      "metadata": {
        "id": "-SOhD-tu9QeF"
      },
      "execution_count": 79,
      "outputs": []
    },
    {
      "cell_type": "code",
      "source": [
        "from sklearn.model_selection import train_test_split\n",
        "X_train, X_test, y_train, y_test = train_test_split(X, y, test_size=0.2, random_state=1)\n",
        "X_train, X_val, y_train, y_val = train_test_split(X_train, y_train, test_size=0.2, random_state=1)\n",
        "\n",
        "query_train = [X_train.shape[0]]\n",
        "query_val = [X_val.shape[0]]\n",
        "query_test = [X_test.shape[0]]\n"
      ],
      "metadata": {
        "id": "Q704p5Um7gt8"
      },
      "execution_count": 80,
      "outputs": []
    },
    {
      "cell_type": "code",
      "source": [
        "gbm.fit(X_train, y_train, group=query_train,\n",
        "        eval_set=[(X_val, y_val)], eval_group=[query_val],\n",
        "        eval_at=[5, 10, 20], early_stopping_rounds=50)"
      ],
      "metadata": {
        "colab": {
          "base_uri": "https://localhost:8080/"
        },
        "id": "3uC5vJhQ9bW8",
        "outputId": "dcab3e9f-ec0d-452c-f569-af9d08d00522"
      },
      "execution_count": 81,
      "outputs": [
        {
          "output_type": "stream",
          "name": "stdout",
          "text": [
            "[1]\tvalid_0's ndcg@5: 1\tvalid_0's ndcg@10: 1\tvalid_0's ndcg@20: 1\n",
            "Training until validation scores don't improve for 50 rounds.\n",
            "[2]\tvalid_0's ndcg@5: 1\tvalid_0's ndcg@10: 1\tvalid_0's ndcg@20: 1\n",
            "[3]\tvalid_0's ndcg@5: 1\tvalid_0's ndcg@10: 1\tvalid_0's ndcg@20: 1\n",
            "[4]\tvalid_0's ndcg@5: 1\tvalid_0's ndcg@10: 1\tvalid_0's ndcg@20: 1\n",
            "[5]\tvalid_0's ndcg@5: 1\tvalid_0's ndcg@10: 1\tvalid_0's ndcg@20: 1\n",
            "[6]\tvalid_0's ndcg@5: 1\tvalid_0's ndcg@10: 1\tvalid_0's ndcg@20: 1\n",
            "[7]\tvalid_0's ndcg@5: 1\tvalid_0's ndcg@10: 1\tvalid_0's ndcg@20: 1\n",
            "[8]\tvalid_0's ndcg@5: 1\tvalid_0's ndcg@10: 1\tvalid_0's ndcg@20: 1\n",
            "[9]\tvalid_0's ndcg@5: 1\tvalid_0's ndcg@10: 1\tvalid_0's ndcg@20: 1\n",
            "[10]\tvalid_0's ndcg@5: 1\tvalid_0's ndcg@10: 1\tvalid_0's ndcg@20: 1\n",
            "[11]\tvalid_0's ndcg@5: 1\tvalid_0's ndcg@10: 1\tvalid_0's ndcg@20: 1\n",
            "[12]\tvalid_0's ndcg@5: 1\tvalid_0's ndcg@10: 1\tvalid_0's ndcg@20: 1\n",
            "[13]\tvalid_0's ndcg@5: 1\tvalid_0's ndcg@10: 1\tvalid_0's ndcg@20: 1\n",
            "[14]\tvalid_0's ndcg@5: 1\tvalid_0's ndcg@10: 1\tvalid_0's ndcg@20: 1\n",
            "[15]\tvalid_0's ndcg@5: 1\tvalid_0's ndcg@10: 1\tvalid_0's ndcg@20: 1\n",
            "[16]\tvalid_0's ndcg@5: 1\tvalid_0's ndcg@10: 1\tvalid_0's ndcg@20: 1\n",
            "[17]\tvalid_0's ndcg@5: 1\tvalid_0's ndcg@10: 1\tvalid_0's ndcg@20: 1\n",
            "[18]\tvalid_0's ndcg@5: 1\tvalid_0's ndcg@10: 1\tvalid_0's ndcg@20: 1\n",
            "[19]\tvalid_0's ndcg@5: 1\tvalid_0's ndcg@10: 1\tvalid_0's ndcg@20: 1\n",
            "[20]\tvalid_0's ndcg@5: 1\tvalid_0's ndcg@10: 1\tvalid_0's ndcg@20: 1\n",
            "[21]\tvalid_0's ndcg@5: 1\tvalid_0's ndcg@10: 1\tvalid_0's ndcg@20: 1\n",
            "[22]\tvalid_0's ndcg@5: 1\tvalid_0's ndcg@10: 1\tvalid_0's ndcg@20: 1\n",
            "[23]\tvalid_0's ndcg@5: 1\tvalid_0's ndcg@10: 1\tvalid_0's ndcg@20: 1\n",
            "[24]\tvalid_0's ndcg@5: 1\tvalid_0's ndcg@10: 1\tvalid_0's ndcg@20: 1\n",
            "[25]\tvalid_0's ndcg@5: 1\tvalid_0's ndcg@10: 1\tvalid_0's ndcg@20: 1\n",
            "[26]\tvalid_0's ndcg@5: 1\tvalid_0's ndcg@10: 1\tvalid_0's ndcg@20: 1\n",
            "[27]\tvalid_0's ndcg@5: 1\tvalid_0's ndcg@10: 1\tvalid_0's ndcg@20: 1\n",
            "[28]\tvalid_0's ndcg@5: 1\tvalid_0's ndcg@10: 1\tvalid_0's ndcg@20: 1\n",
            "[29]\tvalid_0's ndcg@5: 1\tvalid_0's ndcg@10: 1\tvalid_0's ndcg@20: 1\n",
            "[30]\tvalid_0's ndcg@5: 1\tvalid_0's ndcg@10: 1\tvalid_0's ndcg@20: 1\n",
            "[31]\tvalid_0's ndcg@5: 1\tvalid_0's ndcg@10: 1\tvalid_0's ndcg@20: 1\n",
            "[32]\tvalid_0's ndcg@5: 1\tvalid_0's ndcg@10: 1\tvalid_0's ndcg@20: 1\n",
            "[33]\tvalid_0's ndcg@5: 1\tvalid_0's ndcg@10: 1\tvalid_0's ndcg@20: 1\n",
            "[34]\tvalid_0's ndcg@5: 1\tvalid_0's ndcg@10: 1\tvalid_0's ndcg@20: 1\n",
            "[35]\tvalid_0's ndcg@5: 1\tvalid_0's ndcg@10: 1\tvalid_0's ndcg@20: 1\n",
            "[36]\tvalid_0's ndcg@5: 1\tvalid_0's ndcg@10: 1\tvalid_0's ndcg@20: 1\n",
            "[37]\tvalid_0's ndcg@5: 1\tvalid_0's ndcg@10: 1\tvalid_0's ndcg@20: 1\n",
            "[38]\tvalid_0's ndcg@5: 1\tvalid_0's ndcg@10: 1\tvalid_0's ndcg@20: 1\n",
            "[39]\tvalid_0's ndcg@5: 1\tvalid_0's ndcg@10: 1\tvalid_0's ndcg@20: 1\n",
            "[40]\tvalid_0's ndcg@5: 1\tvalid_0's ndcg@10: 1\tvalid_0's ndcg@20: 1\n",
            "[41]\tvalid_0's ndcg@5: 1\tvalid_0's ndcg@10: 1\tvalid_0's ndcg@20: 1\n",
            "[42]\tvalid_0's ndcg@5: 1\tvalid_0's ndcg@10: 1\tvalid_0's ndcg@20: 1\n",
            "[43]\tvalid_0's ndcg@5: 1\tvalid_0's ndcg@10: 1\tvalid_0's ndcg@20: 1\n",
            "[44]\tvalid_0's ndcg@5: 1\tvalid_0's ndcg@10: 1\tvalid_0's ndcg@20: 1\n",
            "[45]\tvalid_0's ndcg@5: 1\tvalid_0's ndcg@10: 1\tvalid_0's ndcg@20: 1\n",
            "[46]\tvalid_0's ndcg@5: 1\tvalid_0's ndcg@10: 1\tvalid_0's ndcg@20: 1\n",
            "[47]\tvalid_0's ndcg@5: 1\tvalid_0's ndcg@10: 1\tvalid_0's ndcg@20: 1\n",
            "[48]\tvalid_0's ndcg@5: 1\tvalid_0's ndcg@10: 1\tvalid_0's ndcg@20: 1\n",
            "[49]\tvalid_0's ndcg@5: 1\tvalid_0's ndcg@10: 1\tvalid_0's ndcg@20: 1\n",
            "[50]\tvalid_0's ndcg@5: 1\tvalid_0's ndcg@10: 1\tvalid_0's ndcg@20: 1\n",
            "[51]\tvalid_0's ndcg@5: 1\tvalid_0's ndcg@10: 1\tvalid_0's ndcg@20: 1\n",
            "Early stopping, best iteration is:\n",
            "[1]\tvalid_0's ndcg@5: 1\tvalid_0's ndcg@10: 1\tvalid_0's ndcg@20: 1\n"
          ]
        },
        {
          "output_type": "execute_result",
          "data": {
            "text/plain": [
              "LGBMRanker()"
            ]
          },
          "metadata": {},
          "execution_count": 81
        }
      ]
    }
  ]
}